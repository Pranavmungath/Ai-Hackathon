{
 "cells": [
  {
   "cell_type": "code",
   "execution_count": 18,
   "metadata": {},
   "outputs": [],
   "source": [
    "from typing import Optional\n",
    "from datetime import datetime\n",
    "from pydantic import BaseModel, Field\n",
    "from openai import OpenAI\n",
    "import requests\n",
    "import logging\n",
    "import json"
   ]
  },
  {
   "cell_type": "code",
   "execution_count": 19,
   "metadata": {},
   "outputs": [],
   "source": [
    "client = client = OpenAI(\n",
    "    base_url = 'http://localhost:11434/v1',\n",
    "    api_key='ollama', # required, but unused\n",
    ")\n",
    "\n",
    "model = \"llama3.2:3b\""
   ]
  },
  {
   "cell_type": "code",
   "execution_count": 20,
   "metadata": {},
   "outputs": [],
   "source": [
    "class check_prompt(BaseModel):\n",
    "    \"\"\"First LLM call: Extract basic accomodation information\"\"\"\n",
    "\n",
    "    # description: str = Field(description=\"Raw description of the event\")\n",
    "    is_accomodation_search: bool = Field(\n",
    "        description=\"Is the text a query related to finding an accomodation?\"\n",
    "    )\n",
    "\n",
    "\n",
    "class EventDetails(BaseModel):\n",
    "    \"\"\"Second LLM call: Parse specific event details\"\"\"\n",
    "\n",
    "    city: str = Field(description=\"City in which the accomodation should be booked\")\n",
    "    start_date: str = Field(\n",
    "        description=\"Date and time of checking into the accomodation. Strictly use 'yyyy-mm-dd' date format for this value. Example is 2025-03-25\"\n",
    "    )\n",
    "    end_date: str = Field(\n",
    "        description=\"Date and time of checking out of the accomodation. Strictly use 'yyyy-mm-dd' date format for this value. Example is 2025-03-25\"\n",
    "    )"
   ]
  },
  {
   "cell_type": "code",
   "execution_count": 21,
   "metadata": {},
   "outputs": [],
   "source": [
    "def check_accomodation_request(input: str):\n",
    "    completion = client.beta.chat.completions.parse(\n",
    "        model=model,\n",
    "        messages=[\n",
    "            {\n",
    "                \"role\": \"system\",\n",
    "                \"content\": \"You are an assistant for finding accomodation. \\\n",
    "                    You are allowed to answer only to queries related to accomodation search. \\\n",
    "                    In case of other requests, you must decline. \\\n",
    "                    In this context, Analyze if the text describes a query for finding accomodation. \\\n",
    "                    Say yes if the text describes a query for finding accomodation, else say no\",\n",
    "            },\n",
    "            {\"role\": \"user\", \"content\": input},\n",
    "        ],\n",
    "        response_format=check_prompt\n",
    "    )\n",
    "\n",
    "    return completion.choices[0].message.parsed.is_accomodation_search\n",
    "\n",
    "\n",
    "def extract_stay_details(input:str):\n",
    "    completion = client.beta.chat.completions.parse(\n",
    "        model=model,\n",
    "        messages=[\n",
    "            {\n",
    "                \"role\": \"system\",\n",
    "                \"content\": f\"You are an assistant for finding accomodation. \\\n",
    "                    Extract the name of the city in which the user wishes to stay. If city is not found, strictly use the placeholder [None].\\\n",
    "                    Extract the check-in date. Check-in date is date on which the user will start staying in the accomodation. Strictly use 'yyyy-mm-dd' date format. If check-in date is not found, strictly use the placeholder [None].\\\n",
    "                    Extract the check-out date. Check-out date is date on which the user will leave the accomodation.  Strictly use 'yyyy-mm-dd' date format. If check-out date is not found, strictly use the placeholder [None]. \\\n",
    "                    Do not make any assumptions for the city, check-in date and check-out date.\",\n",
    "            },\n",
    "            {\"role\": \"user\", \"content\": input},\n",
    "        ],\n",
    "        response_format=EventDetails\n",
    "    )\n",
    "\n",
    "    return completion"
   ]
  },
  {
   "cell_type": "code",
   "execution_count": 22,
   "metadata": {},
   "outputs": [],
   "source": [
    "def process_accomodation_search(input: str):\n",
    "    is_accomodation_request = check_accomodation_request(input)\n",
    "\n",
    "    if not is_accomodation_request:\n",
    "        return None\n",
    "    else:\n",
    "        stay_details = extract_stay_details(input)\n",
    "        return stay_details"
   ]
  },
  {
   "cell_type": "code",
   "execution_count": 23,
   "metadata": {},
   "outputs": [],
   "source": [
    "user_input = \"Suggest me some hotels in Bengaluru for staying from 27th March 2025 and 31st March 2025\"\n",
    "# user_input = \"Suggest me some hotels in Bengaluru\"\n",
    "# user_input = \"Write a poem\""
   ]
  },
  {
   "cell_type": "code",
   "execution_count": 24,
   "metadata": {},
   "outputs": [],
   "source": [
    "result = process_accomodation_search(user_input)\n",
    "\n",
    "if not result:\n",
    "    print(\"This is not an accomodation search request!\")\n",
    "else:\n",
    "    pass"
   ]
  },
  {
   "cell_type": "code",
   "execution_count": 25,
   "metadata": {},
   "outputs": [],
   "source": [
    "place_of_stay = result.choices[0].message.parsed.city\n",
    "check_in_date = result.choices[0].message.parsed.start_date\n",
    "check_out_date = result.choices[0].message.parsed.end_date"
   ]
  },
  {
   "cell_type": "code",
   "execution_count": 26,
   "metadata": {},
   "outputs": [
    {
     "data": {
      "text/plain": [
       "('Bengaluru', '2025-03-27', '2025-03-31')"
      ]
     },
     "execution_count": 26,
     "metadata": {},
     "output_type": "execute_result"
    }
   ],
   "source": [
    "place_of_stay, check_in_date, check_out_date"
   ]
  },
  {
   "cell_type": "code",
   "execution_count": 27,
   "metadata": {},
   "outputs": [],
   "source": [
    "def get_weather_forecast(latitude, longitude, start_date, end_date):\n",
    "    response = requests.get(\n",
    "        f\"https://api.open-meteo.com/v1/forecast?latitude={latitude}&longitude={longitude}&hourly=temperature_2m,relative_humidity_2m,rain&start_date={start_date}&end_date={end_date}\"\n",
    "    )\n",
    "    data = response.json()\n",
    "    return data"
   ]
  },
  {
   "cell_type": "code",
   "execution_count": 28,
   "metadata": {},
   "outputs": [],
   "source": [
    "tools = [\n",
    "    {\n",
    "        \"type\": \"function\",\n",
    "        \"function\": {\n",
    "            \"name\": \"get_weather_forecast\",\n",
    "            \"description\": \"Get the forecast for temperature in Celsius, relative humidity in percentage and rain in mm for provided coordinates between the start date and end date.\",\n",
    "            \"parameters\": {\n",
    "                \"type\": \"object\",\n",
    "                \"properties\": {\n",
    "                    \"latitude\": {\"type\": \"number\"},\n",
    "                    \"longitude\": {\"type\": \"number\"},\n",
    "                    \"start_date\": {\"type\": \"string\"},\n",
    "                    \"end_date\": {\"type\": \"string\"}\n",
    "                },\n",
    "                \"required\": [\"latitude\", \"longitude\", \"start_date\", \"end_date\"],\n",
    "                \"additionalProperties\": False,\n",
    "            },\n",
    "            \"strict\": True,\n",
    "        },\n",
    "    }\n",
    "]"
   ]
  },
  {
   "cell_type": "code",
   "execution_count": 107,
   "metadata": {},
   "outputs": [],
   "source": [
    "system_prompt = \"You are a helpful weather assistant. \\\n",
    "                You can determine the latitude and longitude based on the name of the city/place \\\n",
    "                You strictly use 'yyyy-mm-dd' format for dates. \\\n",
    "                Based on the hourly temperature, relative humidity and rain data, you can provide a brief summary on the weather in natural language.\"\n",
    "\n",
    "messages = [\n",
    "    {\"role\": \"system\", \"content\": system_prompt},\n",
    "    {\"role\": \"user\", \"content\": f\"What is the weather forecast for {place_of_stay} between {check_in_date} and {check_out_date}?\"},\n",
    "]\n",
    "\n",
    "completion = client.chat.completions.create(\n",
    "    model=model,\n",
    "    messages=messages,\n",
    "    tools=tools,\n",
    ")"
   ]
  },
  {
   "cell_type": "code",
   "execution_count": 108,
   "metadata": {},
   "outputs": [
    {
     "data": {
      "text/plain": [
       "{'id': 'chatcmpl-256',\n",
       " 'choices': [{'finish_reason': 'tool_calls',\n",
       "   'index': 0,\n",
       "   'logprobs': None,\n",
       "   'message': {'content': '',\n",
       "    'refusal': None,\n",
       "    'role': 'assistant',\n",
       "    'annotations': None,\n",
       "    'audio': None,\n",
       "    'function_call': None,\n",
       "    'tool_calls': [{'id': 'call_vkkv1h67',\n",
       "      'function': {'arguments': '{\"end_date\":\"2025-03-31\",\"latitude\":\"12.9848\",\"longitude\":\"77.5621\",\"start_date\":\"2025-03-27\"}',\n",
       "       'name': 'get_weather_forecast'},\n",
       "      'type': 'function',\n",
       "      'index': 0}]}}],\n",
       " 'created': 1742904172,\n",
       " 'model': 'llama3.2:3b',\n",
       " 'object': 'chat.completion',\n",
       " 'service_tier': None,\n",
       " 'system_fingerprint': 'fp_ollama',\n",
       " 'usage': {'completion_tokens': 55,\n",
       "  'prompt_tokens': 297,\n",
       "  'total_tokens': 352,\n",
       "  'completion_tokens_details': None,\n",
       "  'prompt_tokens_details': None}}"
      ]
     },
     "execution_count": 108,
     "metadata": {},
     "output_type": "execute_result"
    }
   ],
   "source": [
    "completion.model_dump()"
   ]
  },
  {
   "cell_type": "code",
   "execution_count": 109,
   "metadata": {},
   "outputs": [],
   "source": [
    "def call_function(name, args):\n",
    "    if name == \"get_weather_forecast\":\n",
    "        return get_weather_forecast(**args)"
   ]
  },
  {
   "cell_type": "code",
   "execution_count": 110,
   "metadata": {},
   "outputs": [],
   "source": [
    "\n",
    "for tool_call in completion.choices[0].message.tool_calls:\n",
    "    name = tool_call.function.name\n",
    "    args = json.loads(tool_call.function.arguments)\n",
    "    messages.append(completion.choices[0].message)\n",
    "\n",
    "    result = call_function(name, args)\n",
    "    messages.append(\n",
    "        {\"role\": \"tool\", \"tool_call_id\": tool_call.id, \"content\": json.dumps(result['hourly'])}\n",
    "    )"
   ]
  },
  {
   "cell_type": "code",
   "execution_count": 111,
   "metadata": {},
   "outputs": [],
   "source": [
    "\n",
    "class WeatherResponse(BaseModel):\n",
    "    response: str = Field(\n",
    "        description=\"A summary on the weather in natural language based on the weather forcaset data\")"
   ]
  },
  {
   "cell_type": "code",
   "execution_count": 116,
   "metadata": {},
   "outputs": [],
   "source": [
    "completion_2 = client.beta.chat.completions.parse(\n",
    "    model=model,\n",
    "    messages=messages,\n",
    "    tools=tools,\n",
    "    response_format=WeatherResponse,\n",
    ")"
   ]
  },
  {
   "cell_type": "code",
   "execution_count": 117,
   "metadata": {},
   "outputs": [
    {
     "data": {
      "text/plain": [
       "{'id': 'chatcmpl-553',\n",
       " 'choices': [{'finish_reason': 'stop',\n",
       "   'index': 0,\n",
       "   'logprobs': None,\n",
       "   'message': {'content': '{\\n\"response\": \"Invalid data for plotting the time series of precipitation and humidity\"\\n}',\n",
       "    'refusal': None,\n",
       "    'role': 'assistant',\n",
       "    'annotations': None,\n",
       "    'audio': None,\n",
       "    'function_call': None,\n",
       "    'tool_calls': None,\n",
       "    'parsed': {'response': 'Invalid data for plotting the time series of precipitation and humidity'}}}],\n",
       " 'created': 1742904384,\n",
       " 'model': 'llama3.2:3b',\n",
       " 'object': 'chat.completion',\n",
       " 'service_tier': None,\n",
       " 'system_fingerprint': 'fp_ollama',\n",
       " 'usage': {'completion_tokens': 22,\n",
       "  'prompt_tokens': 2048,\n",
       "  'total_tokens': 2070,\n",
       "  'completion_tokens_details': None,\n",
       "  'prompt_tokens_details': None}}"
      ]
     },
     "execution_count": 117,
     "metadata": {},
     "output_type": "execute_result"
    }
   ],
   "source": [
    "completion_2.model_dump()"
   ]
  },
  {
   "cell_type": "code",
   "execution_count": 75,
   "metadata": {},
   "outputs": [
    {
     "data": {
      "text/plain": [
       "[{'role': 'system',\n",
       "  'content': \"You are a helpful weather assistant.                 Decide the latitude and longitude based on the name of the city/place                 Strictly use 'yyyy-mm-dd' format for dates.                 Based on the dictionary containing hourly temperature, relative humidity and rain data, provide a concise summary on the weather in natural language.                 Do not make any assumptions. Strictly base your response only on the available data\"},\n",
       " {'role': 'user',\n",
       "  'content': 'What is the weather forecast for Bengaluru between 2025-03-27 and 2025-03-31?'},\n",
       " ChatCompletionMessage(content='', refusal=None, role='assistant', annotations=None, audio=None, function_call=None, tool_calls=[ChatCompletionMessageToolCall(id='call_nsn9eply', function=Function(arguments='{\"end_date\":\"2025-03-31\",\"latitude\":13,\"longitude\":77,\"start_date\":\"2025-03-27\"}', name='get_weather_forecast'), type='function', index=0)]),\n",
       " {'role': 'tool',\n",
       "  'tool_call_id': 'call_nsn9eply',\n",
       "  'content': '{\"time\": [\"2025-03-27T00:00\", \"2025-03-27T01:00\", \"2025-03-27T02:00\", \"2025-03-27T03:00\", \"2025-03-27T04:00\", \"2025-03-27T05:00\", \"2025-03-27T06:00\", \"2025-03-27T07:00\", \"2025-03-27T08:00\", \"2025-03-27T09:00\", \"2025-03-27T10:00\", \"2025-03-27T11:00\", \"2025-03-27T12:00\", \"2025-03-27T13:00\", \"2025-03-27T14:00\", \"2025-03-27T15:00\", \"2025-03-27T16:00\", \"2025-03-27T17:00\", \"2025-03-27T18:00\", \"2025-03-27T19:00\", \"2025-03-27T20:00\", \"2025-03-27T21:00\", \"2025-03-27T22:00\", \"2025-03-27T23:00\", \"2025-03-28T00:00\", \"2025-03-28T01:00\", \"2025-03-28T02:00\", \"2025-03-28T03:00\", \"2025-03-28T04:00\", \"2025-03-28T05:00\", \"2025-03-28T06:00\", \"2025-03-28T07:00\", \"2025-03-28T08:00\", \"2025-03-28T09:00\", \"2025-03-28T10:00\", \"2025-03-28T11:00\", \"2025-03-28T12:00\", \"2025-03-28T13:00\", \"2025-03-28T14:00\", \"2025-03-28T15:00\", \"2025-03-28T16:00\", \"2025-03-28T17:00\", \"2025-03-28T18:00\", \"2025-03-28T19:00\", \"2025-03-28T20:00\", \"2025-03-28T21:00\", \"2025-03-28T22:00\", \"2025-03-28T23:00\", \"2025-03-29T00:00\", \"2025-03-29T01:00\", \"2025-03-29T02:00\", \"2025-03-29T03:00\", \"2025-03-29T04:00\", \"2025-03-29T05:00\", \"2025-03-29T06:00\", \"2025-03-29T07:00\", \"2025-03-29T08:00\", \"2025-03-29T09:00\", \"2025-03-29T10:00\", \"2025-03-29T11:00\", \"2025-03-29T12:00\", \"2025-03-29T13:00\", \"2025-03-29T14:00\", \"2025-03-29T15:00\", \"2025-03-29T16:00\", \"2025-03-29T17:00\", \"2025-03-29T18:00\", \"2025-03-29T19:00\", \"2025-03-29T20:00\", \"2025-03-29T21:00\", \"2025-03-29T22:00\", \"2025-03-29T23:00\", \"2025-03-30T00:00\", \"2025-03-30T01:00\", \"2025-03-30T02:00\", \"2025-03-30T03:00\", \"2025-03-30T04:00\", \"2025-03-30T05:00\", \"2025-03-30T06:00\", \"2025-03-30T07:00\", \"2025-03-30T08:00\", \"2025-03-30T09:00\", \"2025-03-30T10:00\", \"2025-03-30T11:00\", \"2025-03-30T12:00\", \"2025-03-30T13:00\", \"2025-03-30T14:00\", \"2025-03-30T15:00\", \"2025-03-30T16:00\", \"2025-03-30T17:00\", \"2025-03-30T18:00\", \"2025-03-30T19:00\", \"2025-03-30T20:00\", \"2025-03-30T21:00\", \"2025-03-30T22:00\", \"2025-03-30T23:00\", \"2025-03-31T00:00\", \"2025-03-31T01:00\", \"2025-03-31T02:00\", \"2025-03-31T03:00\", \"2025-03-31T04:00\", \"2025-03-31T05:00\", \"2025-03-31T06:00\", \"2025-03-31T07:00\", \"2025-03-31T08:00\", \"2025-03-31T09:00\", \"2025-03-31T10:00\", \"2025-03-31T11:00\", \"2025-03-31T12:00\", \"2025-03-31T13:00\", \"2025-03-31T14:00\", \"2025-03-31T15:00\", \"2025-03-31T16:00\", \"2025-03-31T17:00\", \"2025-03-31T18:00\", \"2025-03-31T19:00\", \"2025-03-31T20:00\", \"2025-03-31T21:00\", \"2025-03-31T22:00\", \"2025-03-31T23:00\"], \"temperature_2m\": [21.9, 21.8, 22.5, 24.5, 26.4, 28.4, 30.3, 31.5, 32.3, 32.5, 32.8, 32.5, 32.0, 31.0, 29.4, 28.1, 27.7, 25.9, 25.3, 24.4, 23.8, 23.2, 22.8, 22.5, 22.3, 22.2, 23.0, 24.6, 26.6, 29.2, 31.0, 32.4, 33.3, 33.2, 33.0, 32.7, 24.8, 24.5, 25.3, 25.8, 25.6, 25.0, 24.5, 24.1, 23.7, 23.4, 22.9, 22.5, 22.4, 22.8, 23.6, 24.7, 26.4, 28.5, 30.4, 31.8, 32.9, 33.7, 34.2, 34.2, 33.9, 32.9, 31.4, 30.0, 28.6, 27.1, 26.0, 25.2, 24.8, 24.4, 23.9, 23.4, 23.3, 23.6, 24.2, 25.3, 27.3, 29.8, 31.6, 34.4, 35.4, 35.9, 36.1, 35.8, 35.1, 33.9, 32.2, 30.6, 29.3, 28.0, 26.9, 25.8, 24.8, 23.9, 23.0, 22.3, 22.1, 22.8, 24.0, 25.6, 27.7, 30.2, 32.3, 33.9, 35.1, 35.8, 35.8, 35.3, 34.5, 33.1, 31.3, 29.7, 28.4, 27.3, 26.2, 25.1, 24.0, 23.0, 21.9, 20.9], \"relative_humidity_2m\": [91, 91, 89, 79, 69, 59, 52, 47, 43, 42, 40, 41, 42, 44, 53, 59, 56, 66, 72, 76, 80, 85, 88, 90, 91, 92, 89, 81, 71, 57, 49, 44, 39, 38, 39, 39, 85, 84, 77, 72, 73, 77, 80, 82, 83, 84, 86, 89, 90, 88, 85, 80, 73, 64, 55, 47, 39, 33, 30, 29, 30, 34, 40, 47, 56, 67, 75, 80, 82, 84, 86, 87, 87, 87, 85, 80, 68, 52, 40, 28, 26, 24, 21, 19, 18, 19, 22, 26, 32, 40, 47, 53, 59, 63, 67, 70, 70, 66, 60, 52, 43, 33, 25, 22, 22, 22, 21, 20, 21, 25, 30, 35, 40, 44, 50, 58, 66, 72, 75, 76], \"rain\": [0.0, 0.0, 0.0, 0.0, 0.0, 0.0, 0.0, 0.0, 0.0, 0.0, 0.0, 0.0, 0.0, 0.0, 0.0, 0.0, 0.0, 0.0, 0.0, 0.0, 0.0, 0.0, 0.0, 0.0, 0.0, 0.0, 0.0, 0.0, 0.0, 0.0, 0.0, 0.0, 0.0, 0.0, 0.0, 0.0, 1.4, 1.0, 1.0, 1.0, 0.0, 0.0, 0.0, 0.0, 0.0, 0.0, 0.0, 0.0, 0.0, 0.0, 0.0, 0.0, 0.0, 0.0, 0.0, 0.0, 0.0, 0.0, 0.0, 0.0, 0.0, 0.0, 0.0, 0.0, 0.0, 0.0, 0.0, 0.0, 0.0, 0.0, 0.0, 0.0, 0.0, 0.0, 0.0, 0.0, 0.0, 0.0, 0.0, 0.0, 0.0, 0.0, 0.0, 0.0, 0.0, 0.0, 0.0, 0.0, 0.0, 0.0, 0.0, 0.0, 0.0, 0.0, 0.0, 0.0, 0.0, 0.0, 0.0, 0.0, 0.0, 0.0, 0.0, 0.0, 0.0, 0.0, 0.0, 0.0, 0.0, 0.0, 0.0, 0.0, 0.0, 0.0, 0.0, 0.0, 0.0, 0.0, 0.0, 0.0]}'}]"
      ]
     },
     "execution_count": 75,
     "metadata": {},
     "output_type": "execute_result"
    }
   ],
   "source": [
    "messages"
   ]
  },
  {
   "cell_type": "code",
   "execution_count": null,
   "metadata": {},
   "outputs": [],
   "source": []
  }
 ],
 "metadata": {
  "kernelspec": {
   "display_name": "venv",
   "language": "python",
   "name": "python3"
  },
  "language_info": {
   "codemirror_mode": {
    "name": "ipython",
    "version": 3
   },
   "file_extension": ".py",
   "mimetype": "text/x-python",
   "name": "python",
   "nbconvert_exporter": "python",
   "pygments_lexer": "ipython3",
   "version": "3.10.12"
  }
 },
 "nbformat": 4,
 "nbformat_minor": 2
}
