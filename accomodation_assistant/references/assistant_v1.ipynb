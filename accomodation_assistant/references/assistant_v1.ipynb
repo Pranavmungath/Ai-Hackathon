{
 "cells": [
  {
   "cell_type": "code",
   "execution_count": 1,
   "metadata": {},
   "outputs": [],
   "source": [
    "from typing import Optional\n",
    "from datetime import datetime\n",
    "from pydantic import BaseModel, Field\n",
    "from openai import OpenAI\n",
    "import requests\n",
    "import logging\n",
    "import json\n",
    "from collections import defaultdict\n",
    "from datetime import datetime"
   ]
  },
  {
   "cell_type": "code",
   "execution_count": 2,
   "metadata": {},
   "outputs": [],
   "source": [
    "client = client = OpenAI(\n",
    "    base_url = 'http://localhost:11434/v1',\n",
    "    api_key='ollama', # required, but unused\n",
    ")\n",
    "\n",
    "model = \"llama3.2:3b\""
   ]
  },
  {
   "cell_type": "code",
   "execution_count": 3,
   "metadata": {},
   "outputs": [],
   "source": [
    "class check_prompt(BaseModel):\n",
    "    \"\"\"First LLM call: Extract basic accomodation information\"\"\"\n",
    "\n",
    "    # description: str = Field(description=\"Raw description of the event\")\n",
    "    is_accomodation_search: bool = Field(\n",
    "        description=\"Is the text a query related to finding an accomodation?\"\n",
    "    )\n",
    "\n",
    "\n",
    "class EventDetails(BaseModel):\n",
    "    \"\"\"Second LLM call: Parse specific event details\"\"\"\n",
    "\n",
    "    city: str = Field(description=\"City in which the accomodation should be booked\")\n",
    "    start_date: str = Field(\n",
    "        description=\"Date and time of checking into the accomodation. Strictly use 'yyyy-mm-dd' date format for this value. Example is 2025-03-25\"\n",
    "    )\n",
    "    end_date: str = Field(\n",
    "        description=\"Date and time of checking out of the accomodation. Strictly use 'yyyy-mm-dd' date format for this value. Example is 2025-03-25\"\n",
    "    )"
   ]
  },
  {
   "cell_type": "code",
   "execution_count": 4,
   "metadata": {},
   "outputs": [],
   "source": [
    "def check_accomodation_request(input: str):\n",
    "    completion = client.beta.chat.completions.parse(\n",
    "        model=model,\n",
    "        messages=[\n",
    "            {\n",
    "                \"role\": \"system\",\n",
    "                \"content\": \"You are an assistant for finding accomodation. \\\n",
    "                    You are allowed to answer only to queries related to accomodation search. \\\n",
    "                    In case of other requests, you must decline. \\\n",
    "                    In this context, Analyze if the text describes a query for finding accomodation. \\\n",
    "                    Say yes if the text describes a query for finding accomodation, else say no\",\n",
    "            },\n",
    "            {\"role\": \"user\", \"content\": input},\n",
    "        ],\n",
    "        response_format=check_prompt\n",
    "    )\n",
    "\n",
    "    return completion.choices[0].message.parsed.is_accomodation_search\n",
    "\n",
    "\n",
    "def extract_stay_details(input:str):\n",
    "    completion = client.beta.chat.completions.parse(\n",
    "        model=model,\n",
    "        messages=[\n",
    "            {\n",
    "                \"role\": \"system\",\n",
    "                \"content\": f\"You are an assistant for finding accomodation. \\\n",
    "                    Extract the name of the city in which the user wishes to stay. If city is not found, strictly use the placeholder [None].\\\n",
    "                    Extract the check-in date. Check-in date is date on which the user will start staying in the accomodation. Strictly use 'yyyy-mm-dd' date format. If check-in date is not found, strictly use the placeholder [None].\\\n",
    "                    Extract the check-out date. Check-out date is date on which the user will leave the accomodation.  Strictly use 'yyyy-mm-dd' date format. If check-out date is not found, strictly use the placeholder [None]. \\\n",
    "                    Do not make any assumptions for the city, check-in date and check-out date.\",\n",
    "            },\n",
    "            {\"role\": \"user\", \"content\": input},\n",
    "        ],\n",
    "        response_format=EventDetails\n",
    "    )\n",
    "\n",
    "    return completion"
   ]
  },
  {
   "cell_type": "code",
   "execution_count": 5,
   "metadata": {},
   "outputs": [],
   "source": [
    "def process_accomodation_search(input: str):\n",
    "    is_accomodation_request = check_accomodation_request(input)\n",
    "\n",
    "    if not is_accomodation_request:\n",
    "        return None\n",
    "    else:\n",
    "        stay_details = extract_stay_details(input)\n",
    "        return stay_details"
   ]
  },
  {
   "cell_type": "code",
   "execution_count": 6,
   "metadata": {},
   "outputs": [],
   "source": [
    "user_input = \"Suggest me some hotels in Bengaluru for staying from 27th March 2025 and 31st March 2025\"\n",
    "# user_input = \"Suggest me some hotels in Bengaluru\"\n",
    "# user_input = \"Write a poem\""
   ]
  },
  {
   "cell_type": "code",
   "execution_count": 7,
   "metadata": {},
   "outputs": [],
   "source": [
    "result = process_accomodation_search(user_input)\n",
    "\n",
    "if not result:\n",
    "    print(\"This is not an accomodation search request!\")\n",
    "else:\n",
    "    pass"
   ]
  },
  {
   "cell_type": "code",
   "execution_count": 8,
   "metadata": {},
   "outputs": [],
   "source": [
    "place_of_stay = result.choices[0].message.parsed.city\n",
    "check_in_date = result.choices[0].message.parsed.start_date\n",
    "check_out_date = result.choices[0].message.parsed.end_date"
   ]
  },
  {
   "cell_type": "code",
   "execution_count": 9,
   "metadata": {},
   "outputs": [
    {
     "data": {
      "text/plain": [
       "('Bengaluru', '2025-03-27', '2025-03-31')"
      ]
     },
     "execution_count": 9,
     "metadata": {},
     "output_type": "execute_result"
    }
   ],
   "source": [
    "place_of_stay, check_in_date, check_out_date"
   ]
  },
  {
   "cell_type": "code",
   "execution_count": 10,
   "metadata": {},
   "outputs": [],
   "source": [
    "def get_weather_forecast(latitude, longitude, start_date, end_date):\n",
    "    response = requests.get(\n",
    "        f\"https://api.open-meteo.com/v1/forecast?latitude={latitude}&longitude={longitude}&hourly=temperature_2m,relative_humidity_2m,rain&start_date={start_date}&end_date={end_date}\"\n",
    "    )\n",
    "    data = response.json()\n",
    "    \n",
    "    time = data['hourly'].get('time', [])\n",
    "    temperature = data['hourly'].get('temperature_2m', [])\n",
    "    humidity = data['hourly'].get('relative_humidity_2m', [])\n",
    "    rain = data['hourly'].get('rain', [])\n",
    "\n",
    "    if not (time and temperature and humidity and rain):\n",
    "        return {\"error\": \"Incomplete weather data.\"}\n",
    "\n",
    "    daily_data = defaultdict(lambda: {'temperature': [], 'humidity': [], 'total_rain': 0, 'rain_times': []})\n",
    "\n",
    "    for i in range(len(time)):\n",
    "        date = datetime.fromisoformat(time[i]).date()\n",
    "        daily_data[date]['temperature'].append(temperature[i])\n",
    "        daily_data[date]['humidity'].append(humidity[i])\n",
    "        daily_data[date]['total_rain'] += rain[i]\n",
    "\n",
    "        if rain[i] > 0:\n",
    "            daily_data[date]['rain_times'].append({\"time\": time[i].split('T')[1], \"rain\": rain[i]})\n",
    "\n",
    "    result = {}\n",
    "    for date, values in daily_data.items():\n",
    "        avg_temp = sum(values['temperature']) / len(values['temperature'])\n",
    "        avg_humidity = sum(values['humidity']) / len(values['humidity'])\n",
    "        result[str(date)] = {\n",
    "            \"average_temperature\": round(avg_temp, 1),\n",
    "            \"average_humidity\": round(avg_humidity, 1),\n",
    "            \"total_rain\": round(values['total_rain'], 1),\n",
    "            \"rain_times\": values['rain_times']\n",
    "        }\n",
    "\n",
    "    return result, data"
   ]
  },
  {
   "cell_type": "code",
   "execution_count": 11,
   "metadata": {},
   "outputs": [],
   "source": [
    "tools = [\n",
    "    {\n",
    "        \"type\": \"function\",\n",
    "        \"function\": {\n",
    "            \"name\": \"get_weather_forecast\",\n",
    "            \"description\": \"Get the forecast for average temperature in Celsius, average relative humidity in percentage, \\\n",
    "                total rain in mm and timing of rain for provided coordinates between the start date and end date.\",\n",
    "            \"parameters\": {\n",
    "                \"type\": \"object\",\n",
    "                \"properties\": {\n",
    "                    \"latitude\": {\"type\": \"number\"},\n",
    "                    \"longitude\": {\"type\": \"number\"},\n",
    "                    \"start_date\": {\"type\": \"string\"},\n",
    "                    \"end_date\": {\"type\": \"string\"}\n",
    "                },\n",
    "                \"required\": [\"latitude\", \"longitude\", \"start_date\", \"end_date\"],\n",
    "                \"additionalProperties\": False,\n",
    "            },\n",
    "            \"strict\": True,\n",
    "        },\n",
    "    }\n",
    "]"
   ]
  },
  {
   "cell_type": "code",
   "execution_count": 12,
   "metadata": {},
   "outputs": [],
   "source": [
    "system_prompt = \"You are a helpful weather assistant. \\\n",
    "                You can determine the latitude and longitude based on the name of the city/place \\\n",
    "                You strictly use 'yyyy-mm-dd' format for dates. \\\n",
    "                Based on the temperature, relative humidity and rain data, you can provide a concise report on the weather in natural language.\"\n",
    "\n",
    "messages = [\n",
    "    {\"role\": \"system\", \"content\": system_prompt},\n",
    "    {\"role\": \"user\", \"content\": f\"What is the weather forecast for {place_of_stay} between {check_in_date} and {check_out_date}?\"},\n",
    "]\n",
    "\n",
    "completion = client.chat.completions.create(\n",
    "    model=model,\n",
    "    messages=messages,\n",
    "    tools=tools,\n",
    ")"
   ]
  },
  {
   "cell_type": "code",
   "execution_count": 13,
   "metadata": {},
   "outputs": [
    {
     "data": {
      "text/plain": [
       "{'id': 'chatcmpl-712',\n",
       " 'choices': [{'finish_reason': 'tool_calls',\n",
       "   'index': 0,\n",
       "   'logprobs': None,\n",
       "   'message': {'content': '',\n",
       "    'refusal': None,\n",
       "    'role': 'assistant',\n",
       "    'annotations': None,\n",
       "    'audio': None,\n",
       "    'function_call': None,\n",
       "    'tool_calls': [{'id': 'call_rfyeklmg',\n",
       "      'function': {'arguments': '{\"end_date\":\"2025-03-31\",\"latitude\":\"12.9848\",\"longitude\":\"77.5856\",\"start_date\":\"2025-03-27\"}',\n",
       "       'name': 'get_weather_forecast'},\n",
       "      'type': 'function',\n",
       "      'index': 0}]}}],\n",
       " 'created': 1742915957,\n",
       " 'model': 'llama3.2:3b',\n",
       " 'object': 'chat.completion',\n",
       " 'service_tier': None,\n",
       " 'system_fingerprint': 'fp_ollama',\n",
       " 'usage': {'completion_tokens': 55,\n",
       "  'prompt_tokens': 304,\n",
       "  'total_tokens': 359,\n",
       "  'completion_tokens_details': None,\n",
       "  'prompt_tokens_details': None}}"
      ]
     },
     "execution_count": 13,
     "metadata": {},
     "output_type": "execute_result"
    }
   ],
   "source": [
    "completion.model_dump()"
   ]
  },
  {
   "cell_type": "code",
   "execution_count": 14,
   "metadata": {},
   "outputs": [],
   "source": [
    "def call_function(name, args):\n",
    "    if name == \"get_weather_forecast\":\n",
    "        return get_weather_forecast(**args)"
   ]
  },
  {
   "cell_type": "code",
   "execution_count": 15,
   "metadata": {},
   "outputs": [],
   "source": [
    "\n",
    "for tool_call in completion.choices[0].message.tool_calls:\n",
    "    name = tool_call.function.name\n",
    "    args = json.loads(tool_call.function.arguments)\n",
    "    messages.append(completion.choices[0].message)\n",
    "\n",
    "    result, _ = call_function(name, args)\n",
    "    messages.append(\n",
    "        {\"role\": \"tool\", \"tool_call_id\": tool_call.id, \"content\": json.dumps(result)}\n",
    "    )"
   ]
  },
  {
   "cell_type": "code",
   "execution_count": 16,
   "metadata": {},
   "outputs": [],
   "source": [
    "\n",
    "class WeatherResponse(BaseModel):\n",
    "    weather_report: str = Field(\n",
    "        description=\"A text summary on the weather in natural language based on the weather forcast data\")"
   ]
  },
  {
   "cell_type": "code",
   "execution_count": 17,
   "metadata": {},
   "outputs": [],
   "source": [
    "completion_2 = client.beta.chat.completions.parse(\n",
    "    model=model,\n",
    "    messages=messages,\n",
    "    tools=tools,\n",
    "    response_format=WeatherResponse,\n",
    ")"
   ]
  },
  {
   "cell_type": "code",
   "execution_count": 18,
   "metadata": {},
   "outputs": [
    {
     "name": "stdout",
     "output_type": "stream",
     "text": [
      "Bengaluru's weather forecast between 2025-03-27 and 2025-03-31 shows a general trend of increasing temperature with decreasing relative humidity as the period progresses. On these days, there is no significant rainfall expected, making it suitable for outdoor activities. As most of these days have average temperatures between 25.6°C to 28.0°C and low humidity levels, wearing light clothing would be a good idea. It's also worth noting that humidity will vary a little each day but is never quite too high as to make one feel uncomfortable outdoors.\n"
     ]
    }
   ],
   "source": [
    "print(completion_2.choices[0].message.parsed.weather_report)"
   ]
  }
 ],
 "metadata": {
  "kernelspec": {
   "display_name": "venv",
   "language": "python",
   "name": "python3"
  },
  "language_info": {
   "codemirror_mode": {
    "name": "ipython",
    "version": 3
   },
   "file_extension": ".py",
   "mimetype": "text/x-python",
   "name": "python",
   "nbconvert_exporter": "python",
   "pygments_lexer": "ipython3",
   "version": "3.10.12"
  }
 },
 "nbformat": 4,
 "nbformat_minor": 2
}
