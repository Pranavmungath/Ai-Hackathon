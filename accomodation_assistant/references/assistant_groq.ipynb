{
 "cells": [
  {
   "cell_type": "code",
   "execution_count": 1,
   "metadata": {},
   "outputs": [],
   "source": [
    "from typing import Optional\n",
    "from datetime import datetime\n",
    "from pydantic import BaseModel, Field\n",
    "from openai import OpenAI\n",
    "import requests\n",
    "import logging\n",
    "import json\n",
    "from collections import defaultdict\n",
    "from datetime import datetime\n",
    "import os"
   ]
  },
  {
   "cell_type": "code",
   "execution_count": 2,
   "metadata": {},
   "outputs": [],
   "source": [
    "client = OpenAI(\n",
    "    base_url=\"https://api.groq.com/openai/v1\",\n",
    "    api_key=os.environ.get(\"GROQ_API_KEY\")\n",
    ")\n",
    "\n",
    "model = \"llama-3.3-70b-versatile\""
   ]
  },
  {
   "cell_type": "code",
   "execution_count": 3,
   "metadata": {},
   "outputs": [],
   "source": [
    "class check_prompt(BaseModel):\n",
    "    \"\"\"First LLM call: Extract basic accomodation information\"\"\"\n",
    "\n",
    "    # description: str = Field(description=\"Raw description of the event\")\n",
    "    is_accomodation_search: bool = Field(\n",
    "        description=\"Is the text a query related to finding an accomodation?\"\n",
    "    )\n",
    "\n",
    "\n",
    "class EventDetails(BaseModel):\n",
    "    \"\"\"Second LLM call: Parse specific event details\"\"\"\n",
    "\n",
    "    city: str = Field(description=\"City in which the accomodation should be booked\")\n",
    "    start_date: str = Field(\n",
    "        description=\"Date and time of checking into the accomodation. Strictly use 'yyyy-mm-dd' date format for this value. Example is 2025-03-25\"\n",
    "    )\n",
    "    end_date: str = Field(\n",
    "        description=\"Date and time of checking out of the accomodation. Strictly use 'yyyy-mm-dd' date format for this value. Example is 2025-03-25\"\n",
    "    )"
   ]
  },
  {
   "cell_type": "code",
   "execution_count": 4,
   "metadata": {},
   "outputs": [],
   "source": [
    "def check_accomodation_request(input_prompt: str):\n",
    "    completion = client.chat.completions.create(\n",
    "        model=model,\n",
    "        messages=[\n",
    "            {\n",
    "                \"role\": \"system\",\n",
    "                \"content\": f\"\"\"\n",
    "                    You are an assistant for finding accomodation. \n",
    "                    You are allowed to answer only to queries related to accomodation search.\n",
    "                    In case of other requests, you must decline.\n",
    "                    In this context, Analyze if the text describes a query for finding accomodation.\n",
    "                    Say yes if the text describes a query for finding accomodation, else say no.\n",
    "                    Output should be in json format:\n",
    "                    {json.dumps(check_prompt.model_json_schema(), indent=2)}\n",
    "                    \"\"\" \n",
    "            },\n",
    "            {\"role\": \"user\", \"content\": input_prompt},\n",
    "        ],\n",
    "        response_format={\"type\": \"json_object\"}\n",
    "    )\n",
    "\n",
    "    return check_prompt.model_validate_json(completion.choices[0].message.content)\n",
    "\n",
    "\n",
    "def extract_stay_details(input:str):\n",
    "    completion = client.chat.completions.create(\n",
    "        model=model,\n",
    "        messages=[\n",
    "            {\n",
    "                \"role\": \"system\",\n",
    "                \"content\": f\"\"\"\n",
    "                    You are an assistant for finding accomodation.\n",
    "                    Extract the name of the city in which the user wishes to stay. If city is not found, strictly use the placeholder [None].\n",
    "                    Extract the check-in date. Check-in date is date on which the user will start staying in the accomodation. Strictly use 'yyyy-mm-dd' date format. If check-in date is not found, strictly use the placeholder [None].\n",
    "                    Extract the check-out date. Check-out date is date on which the user will leave the accomodation.  Strictly use 'yyyy-mm-dd' date format. If check-out date is not found, strictly use the placeholder [None].\n",
    "                    Do not make any assumptions for the city, check-in date and check-out date.\n",
    "                    Output should be in json format:\n",
    "                    {json.dumps(EventDetails.model_json_schema(), indent=2)}\n",
    "                \"\"\"\n",
    "            },\n",
    "            {\"role\": \"user\", \"content\": input},\n",
    "        ],\n",
    "        response_format={\"type\": \"json_object\"}\n",
    "    )\n",
    "\n",
    "    return EventDetails.model_validate_json(completion.choices[0].message.content)"
   ]
  },
  {
   "cell_type": "code",
   "execution_count": 5,
   "metadata": {},
   "outputs": [],
   "source": [
    "def process_accomodation_search(input: str):\n",
    "    is_accomodation_request = check_accomodation_request(input)\n",
    "\n",
    "    if not is_accomodation_request:\n",
    "        return None\n",
    "    else:\n",
    "        stay_details = extract_stay_details(input)\n",
    "        return stay_details"
   ]
  },
  {
   "cell_type": "code",
   "execution_count": 6,
   "metadata": {},
   "outputs": [],
   "source": [
    "user_input = \"Suggest me some hotels in Bengaluru for staying from 27th March 2025 and 31st March 2025\"\n",
    "# user_input = \"Suggest me some hotels in Bengaluru\"\n",
    "# user_input = \"Write a poem\""
   ]
  },
  {
   "cell_type": "code",
   "execution_count": 7,
   "metadata": {},
   "outputs": [],
   "source": [
    "result = process_accomodation_search(user_input)\n",
    "\n",
    "if not result:\n",
    "    print(\"This is not an accomodation search request!\")"
   ]
  },
  {
   "cell_type": "code",
   "execution_count": 8,
   "metadata": {},
   "outputs": [
    {
     "data": {
      "text/plain": [
       "EventDetails(city='Bengaluru', start_date='2025-03-27', end_date='2025-03-31')"
      ]
     },
     "execution_count": 8,
     "metadata": {},
     "output_type": "execute_result"
    }
   ],
   "source": [
    "result"
   ]
  },
  {
   "cell_type": "code",
   "execution_count": 9,
   "metadata": {},
   "outputs": [],
   "source": [
    "place_of_stay = result.city\n",
    "check_in_date = result.start_date\n",
    "check_out_date = result.end_date"
   ]
  },
  {
   "cell_type": "code",
   "execution_count": 10,
   "metadata": {},
   "outputs": [
    {
     "data": {
      "text/plain": [
       "('Bengaluru', '2025-03-27', '2025-03-31')"
      ]
     },
     "execution_count": 10,
     "metadata": {},
     "output_type": "execute_result"
    }
   ],
   "source": [
    "place_of_stay, check_in_date, check_out_date"
   ]
  },
  {
   "cell_type": "code",
   "execution_count": 11,
   "metadata": {},
   "outputs": [],
   "source": [
    "def get_weather_forecast(latitude, longitude, start_date, end_date):\n",
    "    response = requests.get(\n",
    "        f\"https://api.open-meteo.com/v1/forecast?latitude={latitude}&longitude={longitude}&hourly=temperature_2m,relative_humidity_2m,rain&start_date={start_date}&end_date={end_date}\"\n",
    "    )\n",
    "    data = response.json()\n",
    "    \n",
    "    time = data['hourly'].get('time', [])\n",
    "    temperature = data['hourly'].get('temperature_2m', [])\n",
    "    humidity = data['hourly'].get('relative_humidity_2m', [])\n",
    "    rain = data['hourly'].get('rain', [])\n",
    "\n",
    "    if not (time and temperature and humidity and rain):\n",
    "        return {\"error\": \"Incomplete weather data.\"}\n",
    "\n",
    "    daily_data = defaultdict(lambda: {'temperature': [], 'humidity': [], 'total_rain': 0, 'rain_times': []})\n",
    "\n",
    "    for i in range(len(time)):\n",
    "        date = datetime.fromisoformat(time[i]).date()\n",
    "        daily_data[date]['temperature'].append(temperature[i])\n",
    "        daily_data[date]['humidity'].append(humidity[i])\n",
    "        daily_data[date]['total_rain'] += rain[i]\n",
    "\n",
    "        if rain[i] > 0:\n",
    "            daily_data[date]['rain_times'].append({\"time\": time[i].split('T')[1], \"rain\": rain[i]})\n",
    "\n",
    "    result = {}\n",
    "    for date, values in daily_data.items():\n",
    "        avg_temp = sum(values['temperature']) / len(values['temperature'])\n",
    "        avg_humidity = sum(values['humidity']) / len(values['humidity'])\n",
    "        result[str(date)] = {\n",
    "            \"average_temperature\": round(avg_temp, 1),\n",
    "            \"average_humidity\": round(avg_humidity, 1),\n",
    "            \"total_rain\": round(values['total_rain'], 1),\n",
    "            \"rain_times\": values['rain_times']\n",
    "        }\n",
    "\n",
    "    return result, data"
   ]
  },
  {
   "cell_type": "code",
   "execution_count": 12,
   "metadata": {},
   "outputs": [],
   "source": [
    "tools = [\n",
    "  {\n",
    "    \"type\": \"function\",\n",
    "    \"function\": {\n",
    "      \"name\": \"get_weather_forecast\",\n",
    "      \"description\": \"Retrieve the weather forecast including average temperature (°C), average relative humidity (%), total rainfall (mm), and rain timing for specified coordinates within a given date range.\",\n",
    "      \"parameters\": {\n",
    "        \"type\": \"object\",\n",
    "        \"properties\": {\n",
    "          \"latitude\": {\n",
    "            \"type\": \"number\",\n",
    "            \"description\": \"Latitude of the location (in decimal degrees, range: -90 to 90).\",\n",
    "            \"minimum\": -90,\n",
    "            \"maximum\": 90\n",
    "          },\n",
    "          \"longitude\": {\n",
    "            \"type\": \"number\",\n",
    "            \"description\": \"Longitude of the location (in decimal degrees, range: -180 to 180).\",\n",
    "            \"minimum\": -180,\n",
    "            \"maximum\": 180\n",
    "          },\n",
    "          \"start_date\": {\n",
    "            \"type\": \"string\",\n",
    "            \"description\": \"Start date for the forecast period (format: YYYY-MM-DD).\",\n",
    "            \"pattern\": \"^\\\\d{4}-\\\\d{2}-\\\\d{2}$\"\n",
    "          },\n",
    "          \"end_date\": {\n",
    "            \"type\": \"string\",\n",
    "            \"description\": \"End date for the forecast period (format: YYYY-MM-DD).\",\n",
    "            \"pattern\": \"^\\\\d{4}-\\\\d{2}-\\\\d{2}$\"\n",
    "          }\n",
    "        },\n",
    "        \"required\": [\"latitude\", \"longitude\", \"start_date\", \"end_date\"],\n",
    "        \"additionalProperties\": False\n",
    "      },\n",
    "      \"strict\": True\n",
    "    }\n",
    "  }\n",
    "]"
   ]
  },
  {
   "cell_type": "code",
   "execution_count": 13,
   "metadata": {},
   "outputs": [],
   "source": [
    "system_prompt = \"\"\"\n",
    "        **Goal:**\n",
    "        Generate a clear, concise, and human-like weather forecast summary from structured weather data. The summary should use **future tense** and present the information in a natural, easy-to-understand tone.\n",
    "\n",
    "        **Input Format:**\n",
    "        The model will receive a JSON object representing the weather forecast. Each key is a date in `YYYY-MM-DD` format, and the corresponding value is an object containing the following attributes:\n",
    "\n",
    "        - `average_temperature` (float): The average temperature in Celsius.\n",
    "        - `average_humidity` (float): The average humidity as a percentage.\n",
    "        - `total_rain` (float): The total rainfall in millimeters.\n",
    "        - `rain_times` (list): A list of times (in `HH:MM` format) when rain is expected. An empty list means no rain is forecasted.\n",
    "\n",
    "        **Example Input:**\n",
    "        ```json\n",
    "        {\n",
    "        \"2025-03-27\": {\"average_temperature\": 27.6, \"average_humidity\": 74.7, \"total_rain\": 0.0, \"rain_times\": []},\n",
    "        \"2025-03-28\": {\"average_temperature\": 28.9, \"average_humidity\": 68.4, \"total_rain\": 0.0, \"rain_times\": []},\n",
    "        \"2025-03-29\": {\"average_temperature\": 29.2, \"average_humidity\": 67.4, \"total_rain\": 0.0, \"rain_times\": []}\n",
    "        }\n",
    "        ```\n",
    "\n",
    "        **Output Format:**\n",
    "        A natural language weather forecast summary using future tense.\n",
    "\n",
    "        **Example Output:**\n",
    "        \"**Weather Forecast (March 27–29, 2025):**\n",
    "        Expect **warm and dry** weather over these three days. Temperatures will gradually rise from **27.6°C** on March 27 to **29.2°C** by March 29. Humidity will decrease slightly, dropping from **74.7%** to **67.4%**, making the air feel a bit less sticky. **No rain** is expected during this period, so the days should stay **clear and dry** throughout.\"\n",
    "\n",
    "        **Instructions for the Model:**\n",
    "        1. **Identify the Date Range:** Parse the JSON object and determine the range of dates to include in the forecast.\n",
    "\n",
    "        2. **Summarize Temperature Trends:** Describe how temperatures will change over the forecast period, mentioning specific values and whether they will rise, fall, or remain stable.\n",
    "\n",
    "        3. **Summarize Humidity Trends:** Comment on how humidity levels will shift, focusing on whether they will increase, decrease, or stay the same.\n",
    "\n",
    "        4. **Describe Rain Conditions:**\n",
    "        - If `total_rain` is greater than 0, mention the likelihood of rain and its expected timing using `rain_times`.\n",
    "        - If no rain is expected, explicitly state that the forecast predicts dry weather.\n",
    "\n",
    "        5. **Use a Natural Tone:** Use conversational language with phrases like \"expect,\" \"will be,\" and \"should remain\" to make the summary feel human and approachable.\n",
    "\n",
    "        6. **Prioritize Clarity and Brevity:** Keep the summary concise while ensuring all key weather trends are covered.\n",
    "\n",
    "        **Edge Cases:**\n",
    "        - If the input contains only one date, generate a forecast for that single day.\n",
    "        - If the temperature or humidity remains unchanged, explicitly state that conditions will be stable.\n",
    "        - If rain is expected, include specific times when available; otherwise, mention general rainy conditions.\n",
    "\n",
    "    \"\"\"\n",
    "\n",
    "messages = [\n",
    "    {\"role\": \"system\", \"content\": system_prompt},\n",
    "    {\"role\": \"user\", \"content\": f\"What is the weather forecast for {place_of_stay} between {check_in_date} and {check_out_date}?\"},\n",
    "]"
   ]
  },
  {
   "cell_type": "code",
   "execution_count": 14,
   "metadata": {},
   "outputs": [],
   "source": [
    "completion = client.chat.completions.create(\n",
    "    model=model,\n",
    "    messages=messages,\n",
    "    tools=tools,\n",
    ")"
   ]
  },
  {
   "cell_type": "code",
   "execution_count": 15,
   "metadata": {},
   "outputs": [
    {
     "data": {
      "text/plain": [
       "{'id': 'chatcmpl-fbdbd193-d8f0-466c-bf68-8d4ff22a6ca3',\n",
       " 'choices': [{'finish_reason': 'tool_calls',\n",
       "   'index': 0,\n",
       "   'logprobs': None,\n",
       "   'message': {'content': None,\n",
       "    'refusal': None,\n",
       "    'role': 'assistant',\n",
       "    'annotations': None,\n",
       "    'audio': None,\n",
       "    'function_call': None,\n",
       "    'tool_calls': [{'id': 'call_drv1',\n",
       "      'function': {'arguments': '{\"latitude\": 12.97, \"longitude\": 77.59, \"start_date\": \"2025-03-27\", \"end_date\": \"2025-03-31\"}',\n",
       "       'name': 'get_weather_forecast'},\n",
       "      'type': 'function'}]}}],\n",
       " 'created': 1743040547,\n",
       " 'model': 'llama-3.3-70b-versatile',\n",
       " 'object': 'chat.completion',\n",
       " 'service_tier': None,\n",
       " 'system_fingerprint': 'fp_90c1d253ff',\n",
       " 'usage': {'completion_tokens': 50,\n",
       "  'prompt_tokens': 1195,\n",
       "  'total_tokens': 1245,\n",
       "  'completion_tokens_details': None,\n",
       "  'prompt_tokens_details': None,\n",
       "  'queue_time': 0.101745443,\n",
       "  'prompt_time': 0.084763192,\n",
       "  'completion_time': 0.181818182,\n",
       "  'total_time': 0.266581374},\n",
       " 'x_groq': {'id': 'req_01jqan02wnekwtqpyv9etjn4nd'}}"
      ]
     },
     "execution_count": 15,
     "metadata": {},
     "output_type": "execute_result"
    }
   ],
   "source": [
    "completion.model_dump()"
   ]
  },
  {
   "cell_type": "code",
   "execution_count": 16,
   "metadata": {},
   "outputs": [
    {
     "data": {
      "text/plain": [
       "'{\"latitude\": 12.97, \"longitude\": 77.59, \"start_date\": \"2025-03-27\", \"end_date\": \"2025-03-31\"}'"
      ]
     },
     "execution_count": 16,
     "metadata": {},
     "output_type": "execute_result"
    }
   ],
   "source": [
    "completion.choices[0].message.tool_calls[0].function.arguments"
   ]
  },
  {
   "cell_type": "code",
   "execution_count": 17,
   "metadata": {},
   "outputs": [],
   "source": [
    "def call_function(name, args):\n",
    "    if name == \"get_weather_forecast\":\n",
    "        return get_weather_forecast(**args)"
   ]
  },
  {
   "cell_type": "code",
   "execution_count": 18,
   "metadata": {},
   "outputs": [],
   "source": [
    "\n",
    "for tool_call in completion.choices[0].message.tool_calls:\n",
    "    name = tool_call.function.name\n",
    "    args = json.loads(tool_call.function.arguments)\n",
    "    messages.append(completion.choices[0].message)\n",
    "\n",
    "    result, _ = call_function(name, args)\n",
    "    messages.append(\n",
    "        {\"role\": \"tool\", \"tool_call_id\": tool_call.id, \"content\": json.dumps(result)}\n",
    "    )"
   ]
  },
  {
   "cell_type": "code",
   "execution_count": 19,
   "metadata": {},
   "outputs": [],
   "source": [
    "\n",
    "class WeatherResponse(BaseModel):\n",
    "    weather_report: str = Field(\n",
    "        description=\"A text summary on the weather in natural language based on the weather forcast data\")"
   ]
  },
  {
   "cell_type": "code",
   "execution_count": 20,
   "metadata": {},
   "outputs": [],
   "source": [
    "completion_2 = client.chat.completions.create(\n",
    "    model=model,\n",
    "    messages=messages,\n",
    "    tools=tools,\n",
    ")"
   ]
  },
  {
   "cell_type": "code",
   "execution_count": 21,
   "metadata": {},
   "outputs": [
    {
     "name": "stdout",
     "output_type": "stream",
     "text": [
      "**Weather Forecast (March 27–31, 2025):**\n",
      "Expect **warm and dry** weather over these five days. Temperatures will be relatively stable, ranging from **26.9°C** to **27.8°C**, with a slight decrease by March 31. Humidity will decrease significantly, dropping from **56.0%** to **38.0%**, making the air feel less sticky, before slightly increasing to **46.3%** by the end of the period. **No rain** is expected during this period, so the days should stay **clear and dry** throughout.\n"
     ]
    }
   ],
   "source": [
    "print(completion_2.choices[0].message.content)"
   ]
  },
  {
   "cell_type": "code",
   "execution_count": 22,
   "metadata": {},
   "outputs": [],
   "source": [
    "response = requests.get(f\"http://localhost:8084/hotels?city=Bengaluru&ratings=%5B5%2C4%2C3%5D\")\n",
    "data = response.json()"
   ]
  },
  {
   "cell_type": "code",
   "execution_count": 23,
   "metadata": {},
   "outputs": [],
   "source": [
    "def get_reviews_by_city_and_hotel(json_file, city_name, hotel_name):\n",
    "    # Load JSON data\n",
    "    with open(json_file, 'r') as file:\n",
    "        data = json.load(file)\n",
    "\n",
    "    # Iterate through cities\n",
    "    for city in data.get(\"cities\", []):\n",
    "        if city[\"city\"].lower() == city_name.lower():\n",
    "            # Iterate through hotels\n",
    "            for hotel in city.get(\"hotels\", []):\n",
    "                if hotel[\"hotel_name\"].lower() == hotel_name.lower():\n",
    "                    return hotel.get(\"reviews\", [])\n",
    "\n",
    "    return []"
   ]
  },
  {
   "cell_type": "code",
   "execution_count": 24,
   "metadata": {},
   "outputs": [],
   "source": [
    "json_file = '/home/uuj1cob/projects/Ai-Hackathon/accomodation_assistant/knowledge_base/hotel_reviews.json'\n",
    "\n",
    "# for hotel in data['hotels']:\n",
    "#     if not hotel['name'].startswith('TEST'):\n",
    "#         reviews = get_reviews_by_city_and_hotel(json_file, 'Bengaluru', hotel['name'])\n",
    "\n",
    "#         if reviews:\n",
    "#             print(f\"Hotel name: {hotel['name']}\")\n",
    "#             for i, review in enumerate(reviews):\n",
    "#                 print(f\"Review {i} (posted on {review['date']}):\")\n",
    "#                 # print(f\"Reviewer: {review['reviewer_name']}\")\n",
    "#                 # print(f\"Rating: {review['rating']}\")\n",
    "#                 print(review['comment'])\n",
    "#             print(\"-\" * 50)\n",
    "\n",
    "reviews_string = \"\"\n",
    "hotels_list = []\n",
    "for hotel in data['hotels']:\n",
    "    if not hotel['name'].startswith('TEST'):\n",
    "        reviews = get_reviews_by_city_and_hotel(json_file, 'Bengaluru', hotel['name'])\n",
    "\n",
    "        if reviews:\n",
    "            hotels_list.append(hotel['name'])\n",
    "            reviews_string += (f\"\\nHotel name: {hotel['name']}\")\n",
    "            for i, review in enumerate(reviews):\n",
    "                reviews_string += (f\"\\nReview {i} (posted on {review['date']}): {review['comment']}\")\n",
    "            reviews_string += \"\\n\" + \"-\" * 50\n",
    "\n",
    "# reviews_dict = {}\n",
    "\n",
    "# for hotel in data['hotels']:\n",
    "#     if not hotel['name'].startswith('TEST'):\n",
    "#         reviews = get_reviews_by_city_and_hotel(json_file, 'Bengaluru', hotel['name'])\n",
    "\n",
    "#         if reviews:\n",
    "#             hotels_list.append(hotel['name'])\n",
    "#             reviews_string += (f\"\\nHotel name: {hotel['name']}\")\n",
    "#             for i, review in enumerate(reviews):\n",
    "#                 reviews_string += (f\"\\nReview {i} (posted on {review['date']}): {review['comment']}\")\n",
    "#             reviews_string += \"\\n\" + \"-\" * 50"
   ]
  },
  {
   "cell_type": "code",
   "execution_count": 25,
   "metadata": {},
   "outputs": [
    {
     "name": "stdout",
     "output_type": "stream",
     "text": [
      "\n",
      "Hotel name: GINGER BANGALORE WHITEFIELD\n",
      "Review 0 (posted on 2025-02-20): I recently stayed at Ginger Hotels in Whitefield, Bangalore, and had a pleasant experience overall. The location was quite calm and good, making it a comfortable stay away from the city’s hustle. The hotel’s ambience was nice, and the food quality was also good. The rooms were clean and well-maintained, but the size was quite small, fitting just one or two people comfortably. For work-related stays, it was decent, and the pricing was quite reasonable for the services offered. One of the highlights was the excellent room service and the friendly, respectful staff. A special mention to Khushi, who handled everything smoothly and ensured a hassle-free experience. Overall, a good budget-friendly option for short work trips!\n",
      "Review 1 (posted on 2025-03-01): Nice place to stay with Metro access close by. Staff were kind and courteous. Mr. Samim ensured the room is always clean Buffet option is not available on all days and is dependent on occupancy rate which is understandable. Food options were good.\n",
      "Review 2 (posted on 2025-03-19): I had a very disappointing experience at Ginger. The housekeeping service was satisfactory, but the overall servicing was pathetic. The reception staff was highly uncooperative. Despite pre-booking a deluxe bedroom, we were provided with a room that had two separate single beds. After multiple attempts to resolve this issue with the reception, their final solution was simply joining the beds, which was done very poorly. To make matters worse, they did not even provide a proper double-bed blanket. Additionally, the hotel and rooms had a foul smell, making the stay quite uncomfortable. The overall experience was not worth the money. I would strongly advise others to think twice before choosing Ginger.\n",
      "Review 3 (posted on 2025-02-12): Had a wonderful stay at Ginger! The staff was very supportive, ensuring a comfortable experience. The location is great, with good cafes nearby. While the food wasn’t to my taste as a Delhite, there are plenty of options around. Clean rooms, great service, and a welcoming atmosphere\n",
      "Review 4 (posted on 2025-02-22): This could be a very nice hotel for many travelers but for me it’s not reaching basic standard. By the way if you look at the reviews, you can understand why it has such a high rating but I’m giving low rate, there hardly any foreigner staying here and review. I don’t see any foreigner during my stay here and I came here because my regular hotel was fully booked. Ginger was a bit more expensive than the one across the road but the standard are too huge that no way to compare. It is good if I compare to other local favorite hotel in this area such as astra. However, still need a lot improvement on hygiene and overall guest comfort, see my photos to understand why I said so. It’s too close to traffic with lots of noice at night.\n",
      "--------------------------------------------------\n",
      "Hotel name: VIVANTA BY TAJ M G ROAD\n",
      "Review 0 (posted on 2025-03-01): Had an amazing stay here for three days. Their service was on point. The pools a bit small and not really made for swimming. The rooms are nice and bathrooms stocked and clean. Would definitely stay again.\n",
      "Review 1 (posted on 2025-03-10): I recently stayed in the hotel for 1 day. Overall experience was ok nothing memorable when compared to previous stays n other Taj hotel properties. Few things which were good, front desk person Abhishek who helped in check-in was very considerate. Housekeeping staff on the floor were very helpful. Breakfast service staff were really very nice keeping a check on guest for their needs. Things that made the experience Ok was room on 7th floor was quite noisy. When i was checking out the lady on the front desk looked like was in a hurry or caught up with some work. Didn't ask about stay when I mentioned that room was noisy rather than asking why or other detail she provided an explanation mam there are pubs nearby that sound . But actually the issue was neighbors and the traffic noise from the road and the some machine noise and not Pub music at all. I didn't say anything to her as her level of engagement and willingness was very evident. I had booked a cab for my further travel. The driver arrived at the hotel and called me after reaching the gate but the security made him to go out without even taking into account that passenger was in the lobby and would have taken 1 min to board . It took another 15 mins for me to get the cab . Advice there are other hotels in the same area I have stayed in Ritz Carlton which has better quitter rooms even admits the chaos down\n",
      "Review 2 (posted on 2025-01-15): We had a very warm welcome and an excellent stay here. Room was impeccably clean. The curtains and shades are electrically operated. Bedding and pillow options were Hypoallergenic as requested. I love the down pillows. They're what I use and are my absolute favorite. Food is reasonably good, better on weekends. We were presented a complimentary cake in the room as requested on special occasion. Spa is pretty good too. Will definitely recommend to stay here.\n",
      "Review 3 (posted on 2025-02-10): Very bad experience with booking a stay here using Taj app. I've cancelled within the free cancellation period and it has been more than three weeks without a refund. I've emailed and contacted several times without any positive response. My call was hung up last time. My emails were not answered. I wouldn't recommend booking with Taj. Despite being promoted as a luxury brand they are not getting basic things done correctly such as bookings and cancellations.\n",
      "Review 4 (posted on 2024-12-12): I strongly advise travelers to avoid staying at Taj Bengaluru. My experience here was far below expectations, especially for a property that carries the Taj name. 1. Food and Hygiene Concerns: Four people in my group fell sick after dining at the hotel’s restaurant. This raises serious concerns about the quality and hygiene standards of the food being served. For a property of this stature, such negligence is unacceptable. 2. Unpleasant Odors: The elevators and corridors reek of foul smells, making it extremely unpleasant to move around the property. It gave the impression that cleanliness and upkeep are not prioritized here. 3. Gym Condition: The gym is in an appalling state. The equipment is poorly maintained, and the area is unhygienic and unfit for use. As someone who values fitness facilities while traveling, this was a huge letdown. Overall, the state of the property and services was extremely disappointing. Taj Bengaluru fell far short of the standards one expects from a luxury hotel. I would highly recommend considering other options when staying in the city.\n",
      "--------------------------------------------------\n",
      "Hotel name: LEMON TREE HOTEL WHITEFIELD\n",
      "Review 0 (posted on 2025-03-11): Stayed there a week for office business meet, breakfast menu was amazing and wide variety too.. The place had swimming pool at the top, which was the main reason I chose this to others and it was clean and well maintained!! Will definitely choose again if visiting near by :)\n",
      "Review 1 (posted on 2025-11-07): Hotel is nicely located in Whitefield. Google maps location is correct. The staff behaviour was top notch. Rooms were very well maintained. Breakfast & Dinner Buffet had ample options to cater most people. 1 star deducted because of very late room allocation. I had arrived at 5.30pm. I had very well informed the hotel about late check-in + 2 hrs before reaching as well. Yet room was provided around 6.30pm. Also, Hand wash, Body wash, Body lotion, Shampoo - Everything smells like lemon - which becomes kind of irritating specially if you are staying for 2,3+ days.\n",
      "Review 2 (posted on 2025-02-11): This hotel has a serious security concern. On February 8, 2025, at 5:00 PM, someone opened my room door with what appeared to be a master card, without ringing the bell or knocking. The hotel management's explanation was that the room was being cleaned. However, I have been staying here for several days, and the room is only cleaned in the morning. Furthermore, the morning cleaning had already been completed. While the cleaners perform basic tidying, they often neglect tasks such as refilling the water and cleaning the kettle.\n",
      "Review 3 (posted on 2025-01-22): Its like a Lodge in a premier location..Room service staff are good but food quality and rooms are not good.. Location wise its in prime location.. Facility should focus on the interior of room and hygeine.\n",
      "Review 4 (posted on 2025-02-24): We paid our hard earned money for the 4-star experience and received very less in return. Their service, allocation of rooms, housekeeping and internet were really really really slow. We requested 3 rooms on a single floor. They requested some time and came back with no rooms available after 30 40 mins so we have to take whatever given. We requested our luggage to deliver to our rooms to which they agreed but nothing came up after 30 mins so we have to pick them up again from the reception area. We checked into the rooms and no AC was working at all. We called the reception 3 times and went in person to them for sending someone for ac repair. It took almost 2.5 hours after checking for an AC to work. Being in twin-sharing rooms, their washroom door should be locked but their latch was not working at all. Same situation was in all 3 rooms that we stayed in. They provide very limited internet service. Being in IT park where most of your guests are from business background, slow internet is not an option. They provide 2 devices per person in a room to access the internet. I booked the room for 2 persons but 1 cancelled out so I should get access for 4 devices logically but received only for 2 devices. If you need high speed internet, you need to buy extra. When we provided the negative feedback at the checkout time, they tried to cover it up with no logical reasons.\n",
      "--------------------------------------------------\n",
      "Hotel name: THE ZURI WHITEFIELD BENGALURU\n",
      "Review 0 (posted on 2025-03-12): Hotel location is good. Room quality is ok-ok, food quality is reasonable and in-room dining is prompt service. Breakfast spread was good as well. However, for business travellers, front office staff are not trained enough to handle GST tax invoice scenarios and queries. They don’t send tax invoice (which business travellers need to claim back expenses), even in 2-3 days. Given the location of hotel, over 50% of visitors are business travellers. Hotel is though recommended for other facilities and comfortable stay.\n",
      "Review 1 (posted on 2025-03-11): Check in service was amazing. Food was excellent if it is alacarte. Otherwise buffet breakfast is not so great. It's ok type food. Rooms could be better. Very difficult to work from the room\n",
      "Review 2 (posted on 2025-02-10): We absolutely love this hotel and the service. The breakfast spread was very good, and the service was impeccable. By the 4th day, almost every waiter knew my 5yr old son’s name and it was nice to see him get the extra attention during the breakfast buffet. Kudos to the excellent food, Chef Sonub and the Restaurant manager Mr Shuvam for making our experience memorable. The room is comfortable and clean but didn’t quite like the deco unfortunately. The hotel is only 1km from the Hoodi metro which makes it so easy to get around.\n",
      "Review 3 (posted on 2025-10-07): Extremely Disappointing – Far From a 5-Star Experience. I stayed at Zuri for two days and had a shockingly bad experience. Despite advertising itself as a 5-star hotel, the service and quality are nowhere near that level. The room was mediocre at best, but the customer service was appalling. When I requested plates and cutlery, I was given cheap plastic ones—unacceptable for a hotel claiming to be 5-star. When I called to question this, I was told that’s their standard now. After being dissatisfied with both the room and service, I asked to check out early, only to be told I’d still be charged for the next day as a penalty fee. What truly stunned me was their response when I needed basic medicine. They said they didn’t have any, and if I wanted it from a nearby pharmacy, I’d have to pay for a chauffeur-driven car to get it. This kind of service is unheard of in a 5-star hotel, especially when they claim to offer medical assistance. Overall, Zuri is all about overcharging while delivering subpar service. I’ve experienced better hospitality at budget hotels. I strongly recommend avoiding Zuri—save your money and stay somewhere that actually values its guests.\n",
      "Review 4 (posted on 2025-08-12): Nice clean hotel. Good for family. Staffs were excellent. Breakfast buffet was more then excellent. Staffs at restaurant was fabulous with great hospitality. Problem I faced: there was no direct elevator access to Basement parking. We need to walk through the outside and go inside parking.\n",
      "--------------------------------------------------\n",
      "Hotel name: JW MARRIOTT HOTEL BENGALURU\n",
      "Review 0 (posted on 2025-02-14): Two visits in three days for wedding functions were enough to confirm that JWM is indeed worthy of all the accolades. Great location with easy access off Vittal Malya road in the heart of Bengaluru, the JWM boasts of excellent ambience marked by quiet efficiency. The service is good and the well-trained staff is friendly and attentive without being invasive. The menus were of course specifically tailored to the occasion, but the preparation and presentation were superb. Overall, great experience and can't wait to visit again.\n",
      "Review 1 (posted on 2024-10-11): A luxurious hotel in the heart of city. Humbled staff, great hospitality, all shopping areas like MG road, Brigade road just 5-10 mins away. Tasty food.\n",
      "Review 2 (posted on 2025-11-16): Marriot is located in heart of Bengaluru right next to UB city. I had been to Marriott hotel to attend’s cousins engagement. L2 hall was good but small for family function. Food was good but not 5 star level. Service was excellent.\n",
      "Review 3 (posted on 2025-06-08): Great location right next to Cubbon Park. Perfect for a walk pr run. The service here is incredible. Very friendly and helpful. They tale hospitality seriously. Conveniently located to shopping and restaurants all within walking distance. Very clean high end hotel with many luxury touches.\n",
      "Review 4 (posted on 2023-03-19): Horrible service!! Run down hotel! I checked in, given room key. Room key doesn’t work when you enter. Given clothes for laundry at night and asked to be given at 8am, after repeated chasing they come at 9pm. Why do they commit when they can’t fulfill. Breakfast also is absolutely horrible managed, asked for iced Americano, got a Luke warm glass of black coffee. Never staying at this JW Marriott. Worst decision of my travel is choosing JW. Please don’t stay here\n",
      "--------------------------------------------------\n",
      "Hotel name: THE OBEROI, BANGALORE\n",
      "Review 0 (posted on 2025-03-19): Fabulous hotel with wonderful staff! A must stay. The gardens and pool area are beautiful. Rooms are very comfortable but not modern although I loved it. It had an “old India” feel. The pick up from the airport is great. Can’t wait to come back!\n",
      "Review 1 (posted on 2025-01-02): An absolute delight! One of the best hotels I have ever stayed in. A quiet, green oasis in the heart of a bustling megapolis. Delicious, sumptuous breakfast buffet. Comfortable rooms and spacious bathrooms. Nice outdoor pool. Functional gym with friendly coaches. Excellent service all around, attention to detail. Strongly recommended.\n",
      "Review 2 (posted on 2025-02-04): Big n beautiful...quiet and serene....lush n green...rich n regal. There's are some very old(around a century old)trees standing tall. Comfortable suits. Multiple restaurants. Had a wonderful experience.\n",
      "Review 3 (posted on 2024-10-19): This lavish 5 star property is located right on the iconic MG Road in Bengaluru and at Stone's throw away from the Trinity metro station. We went there for an office event and were amazed by the hospitality of this luxurious hotel. Staff were polite & helpful . Lunch options were great with several high quality restaurants and world wide cuisine. It truly assimilates with the ethos of the garden City as it has a beautiful in-house garden decorated with a tiny waterfall as well. Loved the overall vibe and hope to visit soon.\n",
      "Review 4 (posted on 2025-03-19): Stayed here for the 3rd time. Horrible front desk service, worse than a 1/2 star where I felt humiliated just because I wasn’t wearing fancy clothes (I tested it). They were not able to provide the Oberoi service. The room controls via the iPad were trolling - some lights worked with a lag of 5 mins. Lol. If I were staying there for free, I would have given them 3 stars max, only I was paying for all this misery. Consolation was the in-room service and their focaccia bread but, ITC Gardenia is much better.\n",
      "--------------------------------------------------\n"
     ]
    }
   ],
   "source": [
    "print(reviews_string)"
   ]
  },
  {
   "cell_type": "code",
   "execution_count": 26,
   "metadata": {},
   "outputs": [],
   "source": [
    "# Define the Pydantic model for hotel ranking\n",
    "class HotelRanking(BaseModel):\n",
    "    hotel_name: str = Field(description=f\"Name of the hotel exactly as in {hotels_list}\")\n",
    "    reason: str = Field(description=\"A short explanation as to why the hotel was chosen for this rank?\")\n",
    "    pros: str = Field(description=\"A bullet points about the pros of the hotel\")\n",
    "    cons: str = Field(description=\"A bullet points about the cons of the hotel\")\n",
    "\n",
    "class HotelRankingsResponse(BaseModel):\n",
    "    rank_1: HotelRanking = Field(description=\"The name, reason for being assigned first rank, pros and cons of the first ranked hotel\")\n",
    "    rank_2: HotelRanking = Field(description=\"The name, reason for being assigned second rank, pros and cons of the second ranked hotel\")\n",
    "    rank_3: HotelRanking = Field(description=\"The name, reason for being assigned third rank, pros and cons of the third ranked hotel\")\n",
    "\n",
    "# System prompt for hotel ranking\n",
    "system_prompt = f\"\"\"\n",
    "    You are a Hotel Ranking Assistant.\n",
    "    Your task is to evaluate and rank the hotels based on provided guest reviews.\n",
    "    After ranking the hotels, choose the top three hotels.\n",
    "    Safety should be most important criteria when evaluating the hotels.\n",
    "\n",
    "    Other Evaluation Criteria are as follows,\n",
    "    1. Service Quality: Friendliness, attentiveness, and responsiveness of staff.\n",
    "    2. Cleanliness & Maintenance: Cleanliness of rooms, public areas, and general upkeep.\n",
    "    3. Location & Accessibility: Proximity to key city areas, convenience of transport.\n",
    "    4. Amenities & Comfort: Quality of rooms, dining options, event spaces, and technology.\n",
    "    5. Guest Satisfaction: Consistency of positive feedback, handling of issues, and special gestures.\n",
    "\n",
    "    Ranking Logic:\n",
    "    - Analyze and compare the hotels across all criteria with safety being the utmost priority.\n",
    "    - Rank hotels from best to worst, clearly explaining why each hotel holds its position.\n",
    "    - Highlight both positive aspects (pros) and negative aspects (cons) for each hotel.\n",
    "\n",
    "    Output should be in below json format:\n",
    "    {json.dumps(HotelRankingsResponse.model_json_schema(), indent=2)}\n",
    "\"\"\""
   ]
  },
  {
   "cell_type": "code",
   "execution_count": null,
   "metadata": {},
   "outputs": [],
   "source": [
    "\"\"\"    The output should look as follows,\n",
    "    Rank 1:\n",
    "    - Hotel Name: The name of the hotel ranked first.\n",
    "    - Reason for rank: Summarise the reason for its rank\n",
    "    - Pros: the pros about staying in the hotel\n",
    "    - Cons: the cons about staying in the hotel\n",
    "\n",
    "    Rank 2:\n",
    "    - Hotel Name: The name of the hotel ranked second.\n",
    "    - Reason for rank: Summarise the reason for its rank\n",
    "    - Pros: the pros about staying in the hotel\n",
    "    - Cons: the cons about staying in the hotel\n",
    "\n",
    "    Rank 3:\n",
    "    - Hotel Name: The name of the hotel ranked third.\n",
    "    - Reason for rank: Summarise the reason for its rank\n",
    "    - Pros: the pros about staying in the hotel\n",
    "    - Cons: the cons about staying in the hotel\"\"\""
   ]
  },
  {
   "cell_type": "code",
   "execution_count": 28,
   "metadata": {},
   "outputs": [],
   "source": [
    "completion_reviews = client.chat.completions.create(\n",
    "        model=model,\n",
    "        messages=[\n",
    "            {\n",
    "                \"role\": \"system\",\n",
    "                \"content\": system_prompt,\n",
    "            },\n",
    "            {\"role\": \"user\", \"content\": f\"Based on the following reviews, summarise and choose the top 3 hotels. Reviews:\\n{reviews_string}\"},\n",
    "        ],\n",
    "        response_format={\"type\": \"json_object\"}\n",
    "    )"
   ]
  },
  {
   "cell_type": "code",
   "execution_count": 31,
   "metadata": {},
   "outputs": [
    {
     "name": "stdout",
     "output_type": "stream",
     "text": [
      "rank_1=HotelRanking(hotel_name='THE OBEROI, BANGALORE', reason=\"Highly praised for its wonderful staff, comfortable rooms, and excellent service, making it a must-stay hotel. Guests appreciated the hotel's beautiful gardens, pool area, and delicious breakfast buffet.\", pros=\"* Beautiful gardens and pool area * Comfortable rooms with an 'old India' feel * Excellent service and attention to detail * Delicious breakfast buffet * Convenient location\", cons='* Some guests found the front desk service to be horrible * Room controls via iPad were laggy') rank_2=HotelRanking(hotel_name='JW MARRIOTT HOTEL BENGALURU', reason=\"Commended for its great location, excellent ambience, and friendly staff. Guests enjoyed the hotel's luxurious atmosphere and convenient access to nearby attractions.\", pros='* Great location in the heart of Bengaluru * Excellent ambience and friendly staff * Luxurious atmosphere * Convenient access to nearby attractions', cons='* Some guests experienced horrible service and found the hotel to be run-down * Breakfast was poorly managed') rank_3=HotelRanking(hotel_name='VIVANTA BY TAJ M G ROAD', reason=\"Praised for its nice rooms, clean bathrooms, and good food. Guests appreciated the hotel's excellent service, although some experienced issues with room noise and front desk staff.\", pros='* Nice rooms and clean bathrooms * Good food and excellent service * Convenient location', cons='* Some guests experienced room noise and issues with front desk staff * Gym was in poor condition * Food hygiene concerns')\n"
     ]
    }
   ],
   "source": [
    "print(HotelRankingsResponse.model_validate_json(completion_reviews.choices[0].message.content))"
   ]
  },
  {
   "cell_type": "code",
   "execution_count": 34,
   "metadata": {},
   "outputs": [
    {
     "name": "stdout",
     "output_type": "stream",
     "text": [
      "{\n",
      "   \"rank_1\": {\n",
      "      \"hotel_name\": \"THE OBEROI, BANGALORE\",\n",
      "      \"reason\": \"Highly praised for its wonderful staff, comfortable rooms, and excellent service, making it a must-stay hotel. Guests appreciated the hotel's beautiful gardens, pool area, and delicious breakfast buffet.\",\n",
      "      \"pros\": \"* Beautiful gardens and pool area * Comfortable rooms with an 'old India' feel * Excellent service and attention to detail * Delicious breakfast buffet * Convenient location\",\n",
      "      \"cons\": \"* Some guests found the front desk service to be horrible * Room controls via iPad were laggy\"\n",
      "   },\n",
      "   \"rank_2\": {\n",
      "      \"hotel_name\": \"JW MARRIOTT HOTEL BENGALURU\",\n",
      "      \"reason\": \"Commended for its great location, excellent ambience, and friendly staff. Guests enjoyed the hotel's luxurious atmosphere and convenient access to nearby attractions.\",\n",
      "      \"pros\": \"* Great location in the heart of Bengaluru * Excellent ambience and friendly staff * Luxurious atmosphere * Convenient access to nearby attractions\",\n",
      "      \"cons\": \"* Some guests experienced horrible service and found the hotel to be run-down * Breakfast was poorly managed\"\n",
      "   },\n",
      "   \"rank_3\": {\n",
      "      \"hotel_name\": \"VIVANTA BY TAJ M G ROAD\",\n",
      "      \"reason\": \"Praised for its nice rooms, clean bathrooms, and good food. Guests appreciated the hotel's excellent service, although some experienced issues with room noise and front desk staff.\",\n",
      "      \"pros\": \"* Nice rooms and clean bathrooms * Good food and excellent service * Convenient location\",\n",
      "      \"cons\": \"* Some guests experienced room noise and issues with front desk staff * Gym was in poor condition * Food hygiene concerns\"\n",
      "   }\n",
      "}\n"
     ]
    }
   ],
   "source": [
    "print(completion_reviews.choices[0].message.content)"
   ]
  },
  {
   "cell_type": "code",
   "execution_count": 122,
   "metadata": {},
   "outputs": [
    {
     "name": "stdout",
     "output_type": "stream",
     "text": [
      "{ \"rank_1\": {\"hotel_name\": \"JW Marriott Hotel Bengaluru\", \"reason\": \"Excellent service, great location, and luxurious amenities.\" , \"pros\": \"Great location, excellent service, luxurious amenities, convenient to shopping and restaurants.\", \"cons\": \"Room key didn't work initially, breakfast was horrible\"}, \"rank_2\": {\"hotel_name\": \"Marriott Hotel Bengaluru\", \"reason\": \"Friendly staff, great hospitality, and good food.\" , \"pros\": \"Friendly staff, great hospitality, tasty food, convenient location.\", \"cons\": \"L2 hall was small for family function, food not 5-star level\"}, \"rank_3\": {\"hotel_name\": \"Zuri Hotel Bengaluru\", \"reason\": \"Poor service and subpar amenities.\" , \"pros\": \"Nice clean hotel, good for family, excellent staff at restaurant.\", \"cons\": \"No direct elevator access to basement parking, poor customer service, overcharging.\"} }\n"
     ]
    }
   ],
   "source": [
    "completion_reviews_2 = client.beta.chat.completions.parse(\n",
    "        model=model,\n",
    "        messages=[\n",
    "            {\n",
    "                \"role\": \"system\",\n",
    "                \"content\": system_prompt,\n",
    "            },\n",
    "            {\"role\": \"user\", \"content\": reviews_string},\n",
    "        ],\n",
    "        response_format=HotelRankingsResponse,\n",
    "        temperature = 0.7\n",
    "    )"
   ]
  }
 ],
 "metadata": {
  "kernelspec": {
   "display_name": "venv",
   "language": "python",
   "name": "python3"
  },
  "language_info": {
   "codemirror_mode": {
    "name": "ipython",
    "version": 3
   },
   "file_extension": ".py",
   "mimetype": "text/x-python",
   "name": "python",
   "nbconvert_exporter": "python",
   "pygments_lexer": "ipython3",
   "version": "3.10.12"
  }
 },
 "nbformat": 4,
 "nbformat_minor": 2
}
